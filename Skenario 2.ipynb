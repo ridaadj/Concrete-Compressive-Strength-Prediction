{
 "cells": [
  {
   "cell_type": "markdown",
   "id": "a6d85fd0",
   "metadata": {},
   "source": [
    "# Prediksi Kuat Tekan Beton dengan KNN, Random Forest dan Decision Tree\n",
    "- Pada artikel kali ini, kita akan menggunakan sebuah dataset yang memiliki 9 features.\n",
    "- Tujuan dari tutorial ini adalah membandingkan score prediksi dari Regresi KNN, Random Forest dan Decision Tree"
   ]
  },
  {
   "cell_type": "markdown",
   "id": "87771d02",
   "metadata": {},
   "source": [
    "## Load Library"
   ]
  },
  {
   "cell_type": "code",
   "execution_count": 1,
   "id": "5be4db74",
   "metadata": {},
   "outputs": [],
   "source": [
    "#import libraries\n",
    "import pandas as pd\n",
    "import numpy as np\n",
    "#for feature selection importance\n",
    "from sklearn.ensemble import ExtraTreesClassifier\n",
    "#for split data to train and test \n",
    "from sklearn.model_selection import train_test_split\n",
    "#for standardisation\n",
    "from sklearn.preprocessing import StandardScaler\n",
    "#KNN, random forest, decision tree\n",
    "from sklearn.neighbors import KNeighborsRegressor\n",
    "from sklearn.tree import DecisionTreeRegressor\n",
    "from sklearn.ensemble import RandomForestRegressor\n",
    "#for calculate mse\n",
    "from sklearn.metrics import mean_squared_error\n",
    "from sklearn.metrics import mean_absolute_error\n",
    "#for calculate sqrt\n",
    "from math import sqrt"
   ]
  },
  {
   "cell_type": "markdown",
   "id": "47e39166",
   "metadata": {},
   "source": [
    "## Load Dataset"
   ]
  },
  {
   "cell_type": "code",
   "execution_count": 2,
   "id": "3e39be51",
   "metadata": {},
   "outputs": [
    {
     "data": {
      "text/html": [
       "<div>\n",
       "<style scoped>\n",
       "    .dataframe tbody tr th:only-of-type {\n",
       "        vertical-align: middle;\n",
       "    }\n",
       "\n",
       "    .dataframe tbody tr th {\n",
       "        vertical-align: top;\n",
       "    }\n",
       "\n",
       "    .dataframe thead th {\n",
       "        text-align: right;\n",
       "    }\n",
       "</style>\n",
       "<table border=\"1\" class=\"dataframe\">\n",
       "  <thead>\n",
       "    <tr style=\"text-align: right;\">\n",
       "      <th></th>\n",
       "      <th>Cement</th>\n",
       "      <th>Blast</th>\n",
       "      <th>FlyAsh</th>\n",
       "      <th>Water</th>\n",
       "      <th>Superplasticizer</th>\n",
       "      <th>CoarseAggregate</th>\n",
       "      <th>FineAggregate</th>\n",
       "      <th>Age</th>\n",
       "      <th>CompressiveStrength</th>\n",
       "    </tr>\n",
       "  </thead>\n",
       "  <tbody>\n",
       "    <tr>\n",
       "      <th>0</th>\n",
       "      <td>540.0</td>\n",
       "      <td>0.0</td>\n",
       "      <td>0.0</td>\n",
       "      <td>162.0</td>\n",
       "      <td>2.5</td>\n",
       "      <td>1040.0</td>\n",
       "      <td>676.0</td>\n",
       "      <td>28</td>\n",
       "      <td>79.986111</td>\n",
       "    </tr>\n",
       "    <tr>\n",
       "      <th>1</th>\n",
       "      <td>540.0</td>\n",
       "      <td>0.0</td>\n",
       "      <td>0.0</td>\n",
       "      <td>162.0</td>\n",
       "      <td>2.5</td>\n",
       "      <td>1055.0</td>\n",
       "      <td>676.0</td>\n",
       "      <td>28</td>\n",
       "      <td>61.887366</td>\n",
       "    </tr>\n",
       "    <tr>\n",
       "      <th>2</th>\n",
       "      <td>332.5</td>\n",
       "      <td>142.5</td>\n",
       "      <td>0.0</td>\n",
       "      <td>228.0</td>\n",
       "      <td>0.0</td>\n",
       "      <td>932.0</td>\n",
       "      <td>594.0</td>\n",
       "      <td>270</td>\n",
       "      <td>40.269535</td>\n",
       "    </tr>\n",
       "    <tr>\n",
       "      <th>3</th>\n",
       "      <td>332.5</td>\n",
       "      <td>142.5</td>\n",
       "      <td>0.0</td>\n",
       "      <td>228.0</td>\n",
       "      <td>0.0</td>\n",
       "      <td>932.0</td>\n",
       "      <td>594.0</td>\n",
       "      <td>365</td>\n",
       "      <td>41.052780</td>\n",
       "    </tr>\n",
       "    <tr>\n",
       "      <th>4</th>\n",
       "      <td>198.6</td>\n",
       "      <td>132.4</td>\n",
       "      <td>0.0</td>\n",
       "      <td>192.0</td>\n",
       "      <td>0.0</td>\n",
       "      <td>978.4</td>\n",
       "      <td>825.5</td>\n",
       "      <td>360</td>\n",
       "      <td>44.296075</td>\n",
       "    </tr>\n",
       "  </tbody>\n",
       "</table>\n",
       "</div>"
      ],
      "text/plain": [
       "   Cement  Blast  FlyAsh  Water  Superplasticizer  CoarseAggregate  \\\n",
       "0   540.0    0.0     0.0  162.0               2.5           1040.0   \n",
       "1   540.0    0.0     0.0  162.0               2.5           1055.0   \n",
       "2   332.5  142.5     0.0  228.0               0.0            932.0   \n",
       "3   332.5  142.5     0.0  228.0               0.0            932.0   \n",
       "4   198.6  132.4     0.0  192.0               0.0            978.4   \n",
       "\n",
       "   FineAggregate  Age  CompressiveStrength  \n",
       "0          676.0   28            79.986111  \n",
       "1          676.0   28            61.887366  \n",
       "2          594.0  270            40.269535  \n",
       "3          594.0  365            41.052780  \n",
       "4          825.5  360            44.296075  "
      ]
     },
     "execution_count": 2,
     "metadata": {},
     "output_type": "execute_result"
    }
   ],
   "source": [
    "#Persiapkan nama kolom dataframe untuk proses rename\n",
    "col_names = ['Cement',\n",
    "             'Blast',\n",
    "             'FlyAsh',\n",
    "             'Water',\n",
    "             'Superplasticizer',\n",
    "             'CoarseAggregate',\n",
    "             'FineAggregate',\n",
    "             'Age',\n",
    "             'CompressiveStrength']\n",
    "#Load dataset dari sumber data yang type file-nya adalah excel\n",
    "df = pd.read_excel('http://archive.ics.uci.edu/ml/machine-learning-databases/concrete/compressive/Concrete_Data.xls', names=col_names)\n",
    "#Melihat 5 baris teratas dari data\n",
    "df.head()"
   ]
  },
  {
   "cell_type": "code",
   "execution_count": 3,
   "id": "3a26d190",
   "metadata": {},
   "outputs": [
    {
     "data": {
      "text/plain": [
       "(425, 9)"
      ]
     },
     "execution_count": 3,
     "metadata": {},
     "output_type": "execute_result"
    }
   ],
   "source": [
    "#Memilah data dengan memilih data dengan pengukuran hari (Age) ke-28\n",
    "df_new = df.loc[df['Age'] == 28]\n",
    "#Melihat dimensi data yang telah dipilah\n",
    "df_new.shape"
   ]
  },
  {
   "cell_type": "code",
   "execution_count": 4,
   "id": "6e567894",
   "metadata": {},
   "outputs": [
    {
     "data": {
      "text/html": [
       "<div>\n",
       "<style scoped>\n",
       "    .dataframe tbody tr th:only-of-type {\n",
       "        vertical-align: middle;\n",
       "    }\n",
       "\n",
       "    .dataframe tbody tr th {\n",
       "        vertical-align: top;\n",
       "    }\n",
       "\n",
       "    .dataframe thead th {\n",
       "        text-align: right;\n",
       "    }\n",
       "</style>\n",
       "<table border=\"1\" class=\"dataframe\">\n",
       "  <thead>\n",
       "    <tr style=\"text-align: right;\">\n",
       "      <th></th>\n",
       "      <th>Cement</th>\n",
       "      <th>Blast</th>\n",
       "      <th>FlyAsh</th>\n",
       "      <th>Water</th>\n",
       "      <th>Superplasticizer</th>\n",
       "      <th>CoarseAggregate</th>\n",
       "      <th>FineAggregate</th>\n",
       "      <th>Age</th>\n",
       "      <th>CompressiveStrength</th>\n",
       "    </tr>\n",
       "  </thead>\n",
       "  <tbody>\n",
       "    <tr>\n",
       "      <th>0</th>\n",
       "      <td>540.0</td>\n",
       "      <td>0.0</td>\n",
       "      <td>0.0</td>\n",
       "      <td>162.0</td>\n",
       "      <td>2.5</td>\n",
       "      <td>1040.0</td>\n",
       "      <td>676.0</td>\n",
       "      <td>28</td>\n",
       "      <td>79.986111</td>\n",
       "    </tr>\n",
       "    <tr>\n",
       "      <th>1</th>\n",
       "      <td>540.0</td>\n",
       "      <td>0.0</td>\n",
       "      <td>0.0</td>\n",
       "      <td>162.0</td>\n",
       "      <td>2.5</td>\n",
       "      <td>1055.0</td>\n",
       "      <td>676.0</td>\n",
       "      <td>28</td>\n",
       "      <td>61.887366</td>\n",
       "    </tr>\n",
       "    <tr>\n",
       "      <th>7</th>\n",
       "      <td>380.0</td>\n",
       "      <td>95.0</td>\n",
       "      <td>0.0</td>\n",
       "      <td>228.0</td>\n",
       "      <td>0.0</td>\n",
       "      <td>932.0</td>\n",
       "      <td>594.0</td>\n",
       "      <td>28</td>\n",
       "      <td>36.447770</td>\n",
       "    </tr>\n",
       "    <tr>\n",
       "      <th>8</th>\n",
       "      <td>266.0</td>\n",
       "      <td>114.0</td>\n",
       "      <td>0.0</td>\n",
       "      <td>228.0</td>\n",
       "      <td>0.0</td>\n",
       "      <td>932.0</td>\n",
       "      <td>670.0</td>\n",
       "      <td>28</td>\n",
       "      <td>45.854291</td>\n",
       "    </tr>\n",
       "    <tr>\n",
       "      <th>9</th>\n",
       "      <td>475.0</td>\n",
       "      <td>0.0</td>\n",
       "      <td>0.0</td>\n",
       "      <td>228.0</td>\n",
       "      <td>0.0</td>\n",
       "      <td>932.0</td>\n",
       "      <td>594.0</td>\n",
       "      <td>28</td>\n",
       "      <td>39.289790</td>\n",
       "    </tr>\n",
       "  </tbody>\n",
       "</table>\n",
       "</div>"
      ],
      "text/plain": [
       "   Cement  Blast  FlyAsh  Water  Superplasticizer  CoarseAggregate  \\\n",
       "0   540.0    0.0     0.0  162.0               2.5           1040.0   \n",
       "1   540.0    0.0     0.0  162.0               2.5           1055.0   \n",
       "7   380.0   95.0     0.0  228.0               0.0            932.0   \n",
       "8   266.0  114.0     0.0  228.0               0.0            932.0   \n",
       "9   475.0    0.0     0.0  228.0               0.0            932.0   \n",
       "\n",
       "   FineAggregate  Age  CompressiveStrength  \n",
       "0          676.0   28            79.986111  \n",
       "1          676.0   28            61.887366  \n",
       "7          594.0   28            36.447770  \n",
       "8          670.0   28            45.854291  \n",
       "9          594.0   28            39.289790  "
      ]
     },
     "execution_count": 4,
     "metadata": {},
     "output_type": "execute_result"
    }
   ],
   "source": [
    "#Melihat 5 baris teratas dari data\n",
    "df_new.head()"
   ]
  },
  {
   "cell_type": "markdown",
   "id": "4b9de3b5",
   "metadata": {},
   "source": [
    "## Check Missing Value"
   ]
  },
  {
   "cell_type": "code",
   "execution_count": 5,
   "id": "a4cd9da8",
   "metadata": {
    "scrolled": true
   },
   "outputs": [
    {
     "data": {
      "text/plain": [
       "False"
      ]
     },
     "execution_count": 5,
     "metadata": {},
     "output_type": "execute_result"
    }
   ],
   "source": [
    "#Pengecekan apakah terdapat value yang kosong pada data\n",
    "df_new.isnull().values.any()"
   ]
  },
  {
   "cell_type": "markdown",
   "id": "5674c4d9",
   "metadata": {},
   "source": [
    "## Train & Test Data"
   ]
  },
  {
   "cell_type": "code",
   "execution_count": 6,
   "id": "50ccdf3d",
   "metadata": {},
   "outputs": [
    {
     "data": {
      "text/plain": [
       "(425, 7)"
      ]
     },
     "execution_count": 6,
     "metadata": {},
     "output_type": "execute_result"
    }
   ],
   "source": [
    "#Membentuk variabel input\n",
    "X = df_new.drop(['Age', 'CompressiveStrength'], axis=1).values\n",
    "X.shape"
   ]
  },
  {
   "cell_type": "code",
   "execution_count": 7,
   "id": "6d477c05",
   "metadata": {},
   "outputs": [
    {
     "data": {
      "text/plain": [
       "array([79.98611076, 61.88736576, 36.44776979, 45.85429086, 39.28978986,\n",
       "       28.02168359, 47.81378165, 28.23748958, 37.42751518, 30.07976945,\n",
       "       33.01900564, 40.85696881, 71.98818916, 61.09446836, 59.79825348,\n",
       "       60.2946762 , 61.79773388, 56.69561148, 68.29949256, 66.89985628,\n",
       "       60.2946762 , 50.69717028, 56.3991368 , 60.2946762 , 55.49592324,\n",
       "       68.4994406 , 71.29871316, 74.69782984, 52.20022796, 71.29871316,\n",
       "       67.69964844, 71.29871316, 65.99664272, 74.4978818 , 71.29871316,\n",
       "       49.89737812, 24.8900836 , 22.83544512, 25.72434956, 26.40003604,\n",
       "       24.90387312, 24.48329276, 28.46846404, 21.53923024, 24.24197616,\n",
       "       45.70536404, 40.2309246 , 24.53845084, 30.2335226 , 29.21999288,\n",
       "       31.64005364, 37.404073  , 38.50033984, 33.72916592, 29.65436276,\n",
       "       32.66047812, 27.77209328, 31.2677366 , 31.11605188, 34.73580088,\n",
       "       48.28400428, 39.94134468, 33.94290348, 30.84715624, 50.60064364,\n",
       "       52.5035974 , 51.3314882 , 47.401475  , 40.14818748, 45.93978588,\n",
       "       63.14221208, 55.50971276, 52.20022796, 30.21973308, 31.97100212,\n",
       "       67.568648  , 57.226508  , 81.75116932, 64.0178466 , 78.80021204,\n",
       "       41.36856   , 60.28088668, 56.83350668, 51.021224  , 55.55108132,\n",
       "       44.13335876, 39.37597436, 55.64760796, 47.27736932, 44.32641204,\n",
       "       52.30364936, 49.24927068, 41.36856   , 29.15794004, 39.39665864,\n",
       "       39.300132  , 67.86512268, 58.52272288, 53.57917996, 58.99846132,\n",
       "       76.23536132, 69.83702404, 26.200088  , 46.38794528, 39.1622368 ,\n",
       "       41.20308576, 33.68779736, 38.20386516, 41.40992856, 37.81086384,\n",
       "       24.84871504, 27.22051248, 44.63667624, 37.2661778 , 33.27411176,\n",
       "       57.02655996, 44.42293868, 51.021224  , 53.38612668, 50.23522136,\n",
       "       46.68441996, 46.68441996, 44.02993736, 55.45455468, 55.55108132,\n",
       "       57.915984  , 62.05284   , 72.09850532, 21.96670536, 43.73346268,\n",
       "       62.93536928, 59.49488404, 23.84897484, 39.60488039, 43.94237391,\n",
       "       18.74616296, 31.96686526, 25.57335432, 27.93549909, 32.6266938 ,\n",
       "       39.4352693 , 25.74503384, 33.08243743, 21.0662497 , 32.05167081,\n",
       "       22.48932817, 25.21689522, 39.6993386 , 38.70028788, 17.57612219,\n",
       "       18.19871902, 22.62998127, 25.72641799, 37.81362174, 33.0431373 ,\n",
       "       26.91369566, 31.89998609, 19.76520849, 37.43785732, 17.59680647,\n",
       "       31.38150014, 32.03994972, 18.41590396, 25.96566616, 27.53077668,\n",
       "       12.24509376, 17.3403214 , 30.57136584, 24.49708228, 26.84819544,\n",
       "       38.21075992, 43.69898888, 20.87043852, 34.29453624, 29.89223198,\n",
       "       24.29092896, 33.94772981, 20.59395864, 33.66435518, 27.8748252 ,\n",
       "       39.32150576, 43.37700359, 38.80439876, 33.00383717, 17.27551066,\n",
       "       24.28196577, 24.04616498, 17.96429718, 32.88455782, 22.34798559,\n",
       "       41.68434001, 30.43967592, 36.96418731, 27.82725136, 31.74347504,\n",
       "       33.60506024, 17.54026944, 25.17966352, 43.89204216, 36.93522932,\n",
       "       22.43554904, 44.0919902 , 67.30664712, 27.3377234 , 31.35047372,\n",
       "       37.42475728, 22.43554904, 31.84000168, 25.17966352, 17.54026944,\n",
       "       21.6495464 , 31.44700036, 32.72253096, 19.69143456, 31.6469484 ,\n",
       "       39.58281716, 37.42475728, 19.69143456, 27.923778  , 55.94408264,\n",
       "       25.17966352, 21.7529678 , 39.0932892 , 74.98740976, 37.16965116,\n",
       "       33.75674496, 16.49916068, 19.98790924, 36.34917472, 33.68779736,\n",
       "       15.41668336, 33.41890172, 39.05192064, 27.67556664, 26.8550902 ,\n",
       "       45.2985732 , 30.12320644, 15.56836808, 44.6090972 , 53.52402188,\n",
       "       57.21271848, 65.90701084, 52.82075636, 33.39821744, 18.0297974 ,\n",
       "       37.36270444, 32.83974188, 42.63719584, 40.0585556 , 41.94082508,\n",
       "       61.23236356, 40.86524252, 33.3016908 , 52.42086028, 15.08573488,\n",
       "       38.45897128, 37.25928304, 35.22532884, 42.13387836, 31.87447548,\n",
       "       41.540929  , 39.45181672, 37.91428524, 44.27814872, 31.17810472,\n",
       "       23.69039536, 32.76389952, 32.39847724, 28.62704352, 36.80422888,\n",
       "       18.28490352, 33.0603742 , 31.41942132, 31.02642   , 44.38846488,\n",
       "       12.17614616, 25.55887532, 36.4388066 , 32.9569528 , 23.83518532,\n",
       "       26.22766704, 17.95395504, 40.679084  , 19.00885332, 33.7153764 ,\n",
       "        8.53571288, 13.45857152, 32.23989776, 23.51802636, 29.72331036,\n",
       "       49.77327244, 52.44154456, 40.93419012, 44.86420332, 13.19657064,\n",
       "       37.43165204, 29.86810032, 56.61287436, 12.45883132, 23.786922  ,\n",
       "       13.29309728, 39.41734292, 46.2293658 , 44.51946532, 23.73865868,\n",
       "       26.14492992, 15.52010476, 43.5748832 , 35.85964676, 41.05140104,\n",
       "       28.98557104, 46.24315532, 26.91714304, 10.53519328, 25.0969264 ,\n",
       "       29.06830816,  9.73540112, 33.79811352, 39.84481804, 26.96540636,\n",
       "       27.234302  , 30.6472082 , 33.05347944, 24.5798194 , 21.91154728,\n",
       "       30.88163004, 15.340841  , 24.3385028 , 23.8903434 , 22.93197176,\n",
       "       29.41304616, 28.62980142, 36.80491836, 18.28766142, 32.72046253,\n",
       "       31.4201108 , 28.9379972 , 40.92522693, 12.18097249, 25.5595648 ,\n",
       "       36.44363293, 32.96384756, 23.8358748 , 26.23318285, 17.95947085,\n",
       "       38.6306508 , 19.0095428 , 33.71882378,  8.53640236, 13.46132942,\n",
       "       32.24541357, 23.52423164, 29.72606826, 49.77327244, 52.44637089,\n",
       "       40.9348796 , 44.86834018, 13.20208645, 37.43165204, 29.87085822,\n",
       "       56.61907964, 12.4595208 , 23.786922  , 13.29378676, 39.42147978,\n",
       "       46.23419213, 44.52360218, 23.74417449, 26.14768782, 15.52631004,\n",
       "       43.57833058, 35.86585204, 41.05346947, 28.99108685, 46.24729218,\n",
       "       26.92265885, 10.53588276, 25.10382116, 29.07313449,  9.73815902,\n",
       "       33.798803  , 37.17103011, 33.76226077, 16.50398701, 19.98790924,\n",
       "       36.3498642 , 38.21558625, 15.42357812, 33.4195912 , 39.0560575 ,\n",
       "       27.68108245, 26.85991653, 45.30477848, 30.12320644, 15.56974703,\n",
       "       44.6118551 , 53.52471136, 57.21823429, 65.90907927, 52.82696164,\n",
       "       33.39959639, 18.03393426, 37.36339392, 35.31427124, 42.6440906 ,\n",
       "       40.06200298, 43.79827342, 61.23581094, 40.8686899 , 33.30651713,\n",
       "       52.42637609, 15.09125069, 38.46103971, 37.26548832, 35.22532884,\n",
       "       42.14008364, 31.87516496, 41.54230795, 39.45595358, 37.91704314,\n",
       "       44.284354  , 31.1787942 , 23.69660064, 32.76803638, 32.40123514])"
      ]
     },
     "execution_count": 7,
     "metadata": {},
     "output_type": "execute_result"
    }
   ],
   "source": [
    "#Membentuk variabel output\n",
    "y = df_new[\"CompressiveStrength\"].values\n",
    "y"
   ]
  },
  {
   "cell_type": "code",
   "execution_count": 8,
   "id": "cd5c5b07",
   "metadata": {},
   "outputs": [],
   "source": [
    "#Membagi variabel X dan y menjadi data latih dan data uji dengan porsi 80:20\n",
    "X_train, X_test, y_train, y_test = train_test_split(X, y, test_size=0.2, random_state=0)"
   ]
  },
  {
   "cell_type": "code",
   "execution_count": 9,
   "id": "3c645e73",
   "metadata": {},
   "outputs": [
    {
     "data": {
      "text/plain": [
       "(340, 7)"
      ]
     },
     "execution_count": 9,
     "metadata": {},
     "output_type": "execute_result"
    }
   ],
   "source": [
    "X_train.shape"
   ]
  },
  {
   "cell_type": "code",
   "execution_count": 10,
   "id": "60175cd9",
   "metadata": {
    "scrolled": false
   },
   "outputs": [
    {
     "data": {
      "text/plain": [
       "(85, 7)"
      ]
     },
     "execution_count": 10,
     "metadata": {},
     "output_type": "execute_result"
    }
   ],
   "source": [
    "X_test.shape"
   ]
  },
  {
   "cell_type": "code",
   "execution_count": 11,
   "id": "8dff1259",
   "metadata": {},
   "outputs": [
    {
     "data": {
      "text/plain": [
       "array([33.68779736, 17.59680647, 29.65436276, 25.17966352, 33.01900564,\n",
       "       31.41942132, 24.29092896, 38.45897128, 33.7153764 , 32.40123514,\n",
       "       50.69717028, 61.23581094, 44.02993736, 31.74347504, 41.94082508,\n",
       "       31.87447548, 29.72606826, 27.923778  ,  9.73540112, 28.62980142,\n",
       "       17.95947085, 41.68434001, 29.07313449, 61.88736576, 22.83544512,\n",
       "       43.94237391, 52.5035974 , 37.43785732, 43.5748832 , 71.98818916,\n",
       "       44.51946532, 33.76226077, 27.8748252 , 39.84481804, 44.38846488,\n",
       "       33.0431373 , 67.86512268, 29.06830816, 38.6306508 , 19.69143456,\n",
       "       19.98790924, 37.81362174, 37.43165204, 33.4195912 , 60.2946762 ,\n",
       "       32.9569528 , 48.28400428, 36.80491836, 39.45595358, 37.2661778 ,\n",
       "       44.86834018, 23.74417449, 47.81378165, 52.30364936, 18.19871902,\n",
       "       31.1787942 , 26.200088  , 57.226508  , 25.17966352, 22.48932817,\n",
       "       43.89204216, 34.73580088, 39.45181672, 39.42147978, 52.42637609,\n",
       "       35.85964676, 64.0178466 , 30.88163004, 25.74503384, 36.3498642 ,\n",
       "       26.91369566, 31.38150014, 38.20386516, 33.94772981, 36.44363293,\n",
       "       55.55108132, 29.21999288, 38.50033984, 31.97100212, 71.29871316,\n",
       "       45.70536404, 32.05167081, 39.28978986, 37.16965116, 19.69143456])"
      ]
     },
     "execution_count": 11,
     "metadata": {},
     "output_type": "execute_result"
    }
   ],
   "source": [
    "y_test"
   ]
  },
  {
   "cell_type": "markdown",
   "id": "8fa8763d",
   "metadata": {},
   "source": [
    "## Standardization"
   ]
  },
  {
   "cell_type": "code",
   "execution_count": 12,
   "id": "488c612b",
   "metadata": {
    "scrolled": true
   },
   "outputs": [],
   "source": [
    "scaler = StandardScaler()\n",
    "train_scaled = scaler.fit_transform(X_train)\n",
    "test_scaled = scaler.transform(X_test)"
   ]
  },
  {
   "cell_type": "markdown",
   "id": "1a680a85",
   "metadata": {},
   "source": [
    "## Modeling"
   ]
  },
  {
   "cell_type": "code",
   "execution_count": 49,
   "id": "75b98577",
   "metadata": {},
   "outputs": [],
   "source": [
    "knn_model = KNeighborsRegressor(n_neighbors=1)\n",
    "tree_model = DecisionTreeRegressor(max_depth=10)\n",
    "rf_model = RandomForestRegressor(n_estimators=3000, oob_score=True, random_state=100)"
   ]
  },
  {
   "cell_type": "code",
   "execution_count": 50,
   "id": "007f031c",
   "metadata": {},
   "outputs": [
    {
     "data": {
      "text/plain": [
       "RandomForestRegressor(n_estimators=3000, oob_score=True, random_state=100)"
      ]
     },
     "execution_count": 50,
     "metadata": {},
     "output_type": "execute_result"
    }
   ],
   "source": [
    "knn_model.fit(train_scaled, y_train) \n",
    "tree_model.fit(train_scaled, y_train) \n",
    "rf_model.fit(train_scaled, y_train)"
   ]
  },
  {
   "cell_type": "markdown",
   "id": "5a45abe0",
   "metadata": {},
   "source": [
    "## Model Evaluation"
   ]
  },
  {
   "cell_type": "code",
   "execution_count": 51,
   "id": "077ba2e6",
   "metadata": {},
   "outputs": [],
   "source": [
    "knn_mse =  round(mean_squared_error(y_train, knn_model.predict(train_scaled)), 3)\n",
    "knn_mae = round(mean_absolute_error(y_train, knn_model.predict(train_scaled)), 3)\n",
    "knn_score = round(knn_model.score(train_scaled, y_train), 3)\n",
    "tree_mse = round(mean_squared_error(y_train, tree_model.predict(train_scaled)), 3)\n",
    "tree_mae = round(mean_absolute_error(y_train, tree_model.predict(train_scaled)), 3)\n",
    "tree_score = round(tree_model.score(train_scaled, y_train), 3)\n",
    "rf_mse = round(mean_squared_error(y_train, rf_model.predict(train_scaled)), 3)\n",
    "rf_mae = round(mean_absolute_error(y_train, rf_model.predict(train_scaled)), 3)\n",
    "rf_score = round(rf_model.score(train_scaled, y_train), 3)"
   ]
  },
  {
   "cell_type": "code",
   "execution_count": 52,
   "id": "3dadab7e",
   "metadata": {},
   "outputs": [
    {
     "name": "stdout",
     "output_type": "stream",
     "text": [
      "               Model                  MSE                  MAE                 RMSE     Prediction Score\n",
      "                 KNN                0.163                 0.03                0.404                0.999\n",
      "       Decision Tree                0.887                0.336                0.942                0.996\n",
      "       Random Forest                4.763                 1.48                2.182                0.979\n"
     ]
    }
   ],
   "source": [
    "training_ev = [['Model', 'MSE', 'MAE', 'RMSE', 'Prediction Score'], \n",
    "               ['KNN', knn_mse, knn_mae, round(sqrt(knn_mse), 3), knn_score], \n",
    "               ['Decision Tree', tree_mse, tree_mae, round(sqrt(tree_mse), 3), tree_score], \n",
    "               ['Random Forest', rf_mse, rf_mae, round(sqrt(rf_mse), 3), rf_score]]\n",
    "\n",
    "for row in training_ev:\n",
    "    print(\"{: >20} {: >20} {: >20} {: >20} {: >20}\".format(*row))"
   ]
  },
  {
   "cell_type": "markdown",
   "id": "474d78cc",
   "metadata": {},
   "source": [
    "- Dari evaluasi model terhadap data training diatas didapatkan bahwa prediction score model KNN lebih baik dibandingkan Decision Tree dan Random Forest."
   ]
  },
  {
   "cell_type": "code",
   "execution_count": 53,
   "id": "0c19bd3b",
   "metadata": {},
   "outputs": [],
   "source": [
    "knn_test_mse = round(mean_squared_error(y_test, knn_model.predict(test_scaled)), 3)\n",
    "knn_test_mae = round(mean_absolute_error(y_test, knn_model.predict(test_scaled)), 3)\n",
    "knn_test_score = round(knn_model.score(test_scaled, y_test), 3)\n",
    "tree_test_mse = round(mean_squared_error(y_test, tree_model.predict(test_scaled)), 3)\n",
    "tree_test_mae = round(mean_absolute_error(y_test, tree_model.predict(test_scaled)), 3)\n",
    "tree_test_score = round(tree_model.score(test_scaled, y_test), 3)\n",
    "rf_test_mse = round(mean_squared_error(y_test, rf_model.predict(test_scaled)), 3)\n",
    "rf_test_mae = round(mean_absolute_error(y_test, rf_model.predict(test_scaled)), 3)\n",
    "rf_test_score = round(rf_model.score(test_scaled, y_test), 3)"
   ]
  },
  {
   "cell_type": "code",
   "execution_count": 54,
   "id": "d845967a",
   "metadata": {},
   "outputs": [
    {
     "name": "stdout",
     "output_type": "stream",
     "text": [
      "               Model                  MSE                  MAE                 RMSE     Prediction Score\n",
      "                 KNN               42.968                3.972                6.555                0.724\n",
      "       Decision Tree               56.793                4.508                7.536                0.636\n",
      "       Random Forest                39.69                4.316                  6.3                0.745\n"
     ]
    }
   ],
   "source": [
    "testing_ev = [['Model', 'MSE', 'MAE', 'RMSE', 'Prediction Score'], \n",
    "               ['KNN', knn_test_mse, knn_test_mae, round(sqrt(knn_test_mse), 3), knn_test_score], \n",
    "               ['Decision Tree', tree_test_mse, tree_test_mae, round(sqrt(tree_test_mse), 3), tree_test_score], \n",
    "               ['Random Forest', rf_test_mse, rf_test_mae, round(sqrt(rf_test_mse), 3), rf_test_score]]\n",
    "\n",
    "for row in testing_ev:\n",
    "    print(\"{: >20} {: >20} {: >20} {: >20} {: >20}\".format(*row))"
   ]
  },
  {
   "cell_type": "markdown",
   "id": "088a4dcc",
   "metadata": {},
   "source": [
    "- Walaupun prediction score model KNN terhadap data training lebih baik, namun prediction score data testing model Random Forest lebih baik dibandingkan KNN dan Decision Tree."
   ]
  }
 ],
 "metadata": {
  "kernelspec": {
   "display_name": "Python 3",
   "language": "python",
   "name": "python3"
  },
  "language_info": {
   "codemirror_mode": {
    "name": "ipython",
    "version": 3
   },
   "file_extension": ".py",
   "mimetype": "text/x-python",
   "name": "python",
   "nbconvert_exporter": "python",
   "pygments_lexer": "ipython3",
   "version": "3.9.5"
  }
 },
 "nbformat": 4,
 "nbformat_minor": 5
}
